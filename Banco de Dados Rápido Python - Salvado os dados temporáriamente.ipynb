{
 "cells": [
  {
   "cell_type": "code",
   "execution_count": 28,
   "id": "fc8dbd5d",
   "metadata": {},
   "outputs": [],
   "source": [
    "with open('users.csv', 'w', encoding='utf-8', newline='') as arquivo_users:\n",
    "    escritor = csv.writer(arquivo_users)\n",
    "    escritor.writerow(['nome', 'sobrenome', 'email', 'genero'])\n",
    "    escritor.writerow(['Ricardo', 'Machado', 'rlmwolwer@hotmail.com', 'Masculino'])"
   ]
  },
  {
   "cell_type": "code",
   "execution_count": 35,
   "id": "2a75f6c7",
   "metadata": {},
   "outputs": [
    {
     "name": "stdout",
     "output_type": "stream",
     "text": [
      " O que deseja fazer?\n",
      "1 - Cadastrar\n",
      "0 - Sair\n",
      "0\n",
      "[]\n",
      "['nome', 'sobrenome']\n",
      "[]\n"
     ]
    }
   ],
   "source": [
    "header = ['nome', 'sobrenome']\n",
    "dados = []\n",
    "opt = input(' O que deseja fazer?\\n1 - Cadastrar\\n0 - Sair\\n')\n",
    "while opt !='0':\n",
    "    nome = input('Qual o seu nome?')\n",
    "    sobrenome = input('Qual o seu sobrenome?')\n",
    "    dados.append([nome,sobrenome])\n",
    "    opt = input('O que deseja fazer?\\n1 - Cadastrar\\n0 - Sair\\n')\n",
    "    \n",
    "print(dados)\n",
    "\n",
    "with open('users.csv', 'w', newline='') as arquivo_csv:\n",
    "    writer = csv.writer(arquivo_csv)\n",
    "    writer.writerow(header)\n",
    "    writer.writerow(dados)\n",
    "    \n",
    "with open('users.csv', 'r') as csv_file:\n",
    "    csv_reader = csv.reader(csv_file, delimiter=',')\n",
    "    for row in csv_reader:\n",
    "        print(row)"
   ]
  },
  {
   "cell_type": "code",
   "execution_count": null,
   "id": "cc3eed02",
   "metadata": {},
   "outputs": [],
   "source": []
  }
 ],
 "metadata": {
  "kernelspec": {
   "display_name": "Python 3",
   "language": "python",
   "name": "python3"
  },
  "language_info": {
   "codemirror_mode": {
    "name": "ipython",
    "version": 3
   },
   "file_extension": ".py",
   "mimetype": "text/x-python",
   "name": "python",
   "nbconvert_exporter": "python",
   "pygments_lexer": "ipython3",
   "version": "3.8.8"
  }
 },
 "nbformat": 4,
 "nbformat_minor": 5
}
